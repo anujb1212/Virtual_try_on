{
 "cells": [
  {
   "cell_type": "markdown",
   "id": "2e8ce989",
   "metadata": {
    "papermill": {
     "duration": 0.008729,
     "end_time": "2023-11-09T06:00:18.994387",
     "exception": false,
     "start_time": "2023-11-09T06:00:18.985658",
     "status": "completed"
    },
    "tags": []
   },
   "source": [
    "**This notebook is an exercise in the [Pandas](https://www.kaggle.com/learn/pandas) course.  You can reference the tutorial at [this link](https://www.kaggle.com/residentmario/renaming-and-combining).**\n",
    "\n",
    "---\n"
   ]
  },
  {
   "cell_type": "markdown",
   "id": "07738b59",
   "metadata": {
    "papermill": {
     "duration": 0.005368,
     "end_time": "2023-11-09T06:00:19.007524",
     "exception": false,
     "start_time": "2023-11-09T06:00:19.002156",
     "status": "completed"
    },
    "tags": []
   },
   "source": [
    "# Introduction\n",
    "\n",
    "Run the following cell to load your data and some utility functions."
   ]
  },
  {
   "cell_type": "code",
   "execution_count": 1,
   "id": "9e97f885",
   "metadata": {
    "execution": {
     "iopub.execute_input": "2023-11-09T06:00:19.020360Z",
     "iopub.status.busy": "2023-11-09T06:00:19.019926Z",
     "iopub.status.idle": "2023-11-09T06:00:23.984037Z",
     "shell.execute_reply": "2023-11-09T06:00:23.982485Z"
    },
    "papermill": {
     "duration": 4.973558,
     "end_time": "2023-11-09T06:00:23.986143",
     "exception": false,
     "start_time": "2023-11-09T06:00:19.012585",
     "status": "completed"
    },
    "tags": []
   },
   "outputs": [
    {
     "name": "stdout",
     "output_type": "stream",
     "text": [
      "Setup complete.\n"
     ]
    }
   ],
   "source": [
    "import pandas as pd\n",
    "\n",
    "reviews = pd.read_csv(\"../input/wine-reviews/winemag-data-130k-v2.csv\", index_col=0)\n",
    "\n",
    "from learntools.core import binder; binder.bind(globals())\n",
    "from learntools.pandas.renaming_and_combining import *\n",
    "print(\"Setup complete.\")"
   ]
  },
  {
   "cell_type": "markdown",
   "id": "b8a25ff8",
   "metadata": {
    "papermill": {
     "duration": 0.005818,
     "end_time": "2023-11-09T06:00:23.996882",
     "exception": false,
     "start_time": "2023-11-09T06:00:23.991064",
     "status": "completed"
    },
    "tags": []
   },
   "source": [
    "# Exercises\n",
    "\n",
    "View the first several lines of your data by running the cell below:"
   ]
  },
  {
   "cell_type": "code",
   "execution_count": 2,
   "id": "98de4fa7",
   "metadata": {
    "execution": {
     "iopub.execute_input": "2023-11-09T06:00:24.010499Z",
     "iopub.status.busy": "2023-11-09T06:00:24.010096Z",
     "iopub.status.idle": "2023-11-09T06:00:24.036824Z",
     "shell.execute_reply": "2023-11-09T06:00:24.035215Z"
    },
    "papermill": {
     "duration": 0.036922,
     "end_time": "2023-11-09T06:00:24.039592",
     "exception": false,
     "start_time": "2023-11-09T06:00:24.002670",
     "status": "completed"
    },
    "tags": []
   },
   "outputs": [
    {
     "data": {
      "text/html": [
       "<div>\n",
       "<style scoped>\n",
       "    .dataframe tbody tr th:only-of-type {\n",
       "        vertical-align: middle;\n",
       "    }\n",
       "\n",
       "    .dataframe tbody tr th {\n",
       "        vertical-align: top;\n",
       "    }\n",
       "\n",
       "    .dataframe thead th {\n",
       "        text-align: right;\n",
       "    }\n",
       "</style>\n",
       "<table border=\"1\" class=\"dataframe\">\n",
       "  <thead>\n",
       "    <tr style=\"text-align: right;\">\n",
       "      <th></th>\n",
       "      <th>country</th>\n",
       "      <th>description</th>\n",
       "      <th>designation</th>\n",
       "      <th>points</th>\n",
       "      <th>price</th>\n",
       "      <th>province</th>\n",
       "      <th>region_1</th>\n",
       "      <th>region_2</th>\n",
       "      <th>taster_name</th>\n",
       "      <th>taster_twitter_handle</th>\n",
       "      <th>title</th>\n",
       "      <th>variety</th>\n",
       "      <th>winery</th>\n",
       "    </tr>\n",
       "  </thead>\n",
       "  <tbody>\n",
       "    <tr>\n",
       "      <th>0</th>\n",
       "      <td>Italy</td>\n",
       "      <td>Aromas include tropical fruit, broom, brimston...</td>\n",
       "      <td>Vulkà Bianco</td>\n",
       "      <td>87</td>\n",
       "      <td>NaN</td>\n",
       "      <td>Sicily &amp; Sardinia</td>\n",
       "      <td>Etna</td>\n",
       "      <td>NaN</td>\n",
       "      <td>Kerin O’Keefe</td>\n",
       "      <td>@kerinokeefe</td>\n",
       "      <td>Nicosia 2013 Vulkà Bianco  (Etna)</td>\n",
       "      <td>White Blend</td>\n",
       "      <td>Nicosia</td>\n",
       "    </tr>\n",
       "    <tr>\n",
       "      <th>1</th>\n",
       "      <td>Portugal</td>\n",
       "      <td>This is ripe and fruity, a wine that is smooth...</td>\n",
       "      <td>Avidagos</td>\n",
       "      <td>87</td>\n",
       "      <td>15.0</td>\n",
       "      <td>Douro</td>\n",
       "      <td>NaN</td>\n",
       "      <td>NaN</td>\n",
       "      <td>Roger Voss</td>\n",
       "      <td>@vossroger</td>\n",
       "      <td>Quinta dos Avidagos 2011 Avidagos Red (Douro)</td>\n",
       "      <td>Portuguese Red</td>\n",
       "      <td>Quinta dos Avidagos</td>\n",
       "    </tr>\n",
       "    <tr>\n",
       "      <th>2</th>\n",
       "      <td>US</td>\n",
       "      <td>Tart and snappy, the flavors of lime flesh and...</td>\n",
       "      <td>NaN</td>\n",
       "      <td>87</td>\n",
       "      <td>14.0</td>\n",
       "      <td>Oregon</td>\n",
       "      <td>Willamette Valley</td>\n",
       "      <td>Willamette Valley</td>\n",
       "      <td>Paul Gregutt</td>\n",
       "      <td>@paulgwine</td>\n",
       "      <td>Rainstorm 2013 Pinot Gris (Willamette Valley)</td>\n",
       "      <td>Pinot Gris</td>\n",
       "      <td>Rainstorm</td>\n",
       "    </tr>\n",
       "    <tr>\n",
       "      <th>3</th>\n",
       "      <td>US</td>\n",
       "      <td>Pineapple rind, lemon pith and orange blossom ...</td>\n",
       "      <td>Reserve Late Harvest</td>\n",
       "      <td>87</td>\n",
       "      <td>13.0</td>\n",
       "      <td>Michigan</td>\n",
       "      <td>Lake Michigan Shore</td>\n",
       "      <td>NaN</td>\n",
       "      <td>Alexander Peartree</td>\n",
       "      <td>NaN</td>\n",
       "      <td>St. Julian 2013 Reserve Late Harvest Riesling ...</td>\n",
       "      <td>Riesling</td>\n",
       "      <td>St. Julian</td>\n",
       "    </tr>\n",
       "    <tr>\n",
       "      <th>4</th>\n",
       "      <td>US</td>\n",
       "      <td>Much like the regular bottling from 2012, this...</td>\n",
       "      <td>Vintner's Reserve Wild Child Block</td>\n",
       "      <td>87</td>\n",
       "      <td>65.0</td>\n",
       "      <td>Oregon</td>\n",
       "      <td>Willamette Valley</td>\n",
       "      <td>Willamette Valley</td>\n",
       "      <td>Paul Gregutt</td>\n",
       "      <td>@paulgwine</td>\n",
       "      <td>Sweet Cheeks 2012 Vintner's Reserve Wild Child...</td>\n",
       "      <td>Pinot Noir</td>\n",
       "      <td>Sweet Cheeks</td>\n",
       "    </tr>\n",
       "  </tbody>\n",
       "</table>\n",
       "</div>"
      ],
      "text/plain": [
       "    country                                        description  \\\n",
       "0     Italy  Aromas include tropical fruit, broom, brimston...   \n",
       "1  Portugal  This is ripe and fruity, a wine that is smooth...   \n",
       "2        US  Tart and snappy, the flavors of lime flesh and...   \n",
       "3        US  Pineapple rind, lemon pith and orange blossom ...   \n",
       "4        US  Much like the regular bottling from 2012, this...   \n",
       "\n",
       "                          designation  points  price           province  \\\n",
       "0                        Vulkà Bianco      87    NaN  Sicily & Sardinia   \n",
       "1                            Avidagos      87   15.0              Douro   \n",
       "2                                 NaN      87   14.0             Oregon   \n",
       "3                Reserve Late Harvest      87   13.0           Michigan   \n",
       "4  Vintner's Reserve Wild Child Block      87   65.0             Oregon   \n",
       "\n",
       "              region_1           region_2         taster_name  \\\n",
       "0                 Etna                NaN       Kerin O’Keefe   \n",
       "1                  NaN                NaN          Roger Voss   \n",
       "2    Willamette Valley  Willamette Valley        Paul Gregutt   \n",
       "3  Lake Michigan Shore                NaN  Alexander Peartree   \n",
       "4    Willamette Valley  Willamette Valley        Paul Gregutt   \n",
       "\n",
       "  taster_twitter_handle                                              title  \\\n",
       "0          @kerinokeefe                  Nicosia 2013 Vulkà Bianco  (Etna)   \n",
       "1            @vossroger      Quinta dos Avidagos 2011 Avidagos Red (Douro)   \n",
       "2           @paulgwine       Rainstorm 2013 Pinot Gris (Willamette Valley)   \n",
       "3                   NaN  St. Julian 2013 Reserve Late Harvest Riesling ...   \n",
       "4           @paulgwine   Sweet Cheeks 2012 Vintner's Reserve Wild Child...   \n",
       "\n",
       "          variety               winery  \n",
       "0     White Blend              Nicosia  \n",
       "1  Portuguese Red  Quinta dos Avidagos  \n",
       "2      Pinot Gris            Rainstorm  \n",
       "3        Riesling           St. Julian  \n",
       "4      Pinot Noir         Sweet Cheeks  "
      ]
     },
     "execution_count": 2,
     "metadata": {},
     "output_type": "execute_result"
    }
   ],
   "source": [
    "reviews.head()"
   ]
  },
  {
   "cell_type": "markdown",
   "id": "98ccb2a2",
   "metadata": {
    "papermill": {
     "duration": 0.005745,
     "end_time": "2023-11-09T06:00:24.050792",
     "exception": false,
     "start_time": "2023-11-09T06:00:24.045047",
     "status": "completed"
    },
    "tags": []
   },
   "source": [
    "## 1.\n",
    "`region_1` and `region_2` are pretty uninformative names for locale columns in the dataset. Create a copy of `reviews` with these columns renamed to `region` and `locale`, respectively."
   ]
  },
  {
   "cell_type": "code",
   "execution_count": 3,
   "id": "51e56450",
   "metadata": {
    "execution": {
     "iopub.execute_input": "2023-11-09T06:00:24.064888Z",
     "iopub.status.busy": "2023-11-09T06:00:24.064455Z",
     "iopub.status.idle": "2023-11-09T06:00:24.087888Z",
     "shell.execute_reply": "2023-11-09T06:00:24.086959Z"
    },
    "papermill": {
     "duration": 0.032603,
     "end_time": "2023-11-09T06:00:24.089930",
     "exception": false,
     "start_time": "2023-11-09T06:00:24.057327",
     "status": "completed"
    },
    "tags": []
   },
   "outputs": [
    {
     "data": {
      "application/javascript": [
       "parent.postMessage({\"jupyterEvent\": \"custom.exercise_interaction\", \"data\": {\"outcomeType\": 1, \"valueTowardsCompletion\": 0.25, \"interactionType\": 1, \"questionType\": 1, \"questionId\": \"1_RenameCols\", \"learnToolsVersion\": \"0.3.4\", \"failureMessage\": \"\", \"exceptionClass\": \"\", \"trace\": \"\"}}, \"*\")"
      ],
      "text/plain": [
       "<IPython.core.display.Javascript object>"
      ]
     },
     "metadata": {},
     "output_type": "display_data"
    },
    {
     "data": {
      "text/markdown": [
       "<span style=\"color:#33cc33\">Correct</span>"
      ],
      "text/plain": [
       "Correct"
      ]
     },
     "metadata": {},
     "output_type": "display_data"
    }
   ],
   "source": [
    "# Your code here\n",
    "renamed = reviews.rename(columns=dict(region_1='region', region_2='locale'))\n",
    "\n",
    "# Check your answer\n",
    "q1.check()"
   ]
  },
  {
   "cell_type": "code",
   "execution_count": 4,
   "id": "aabd85d4",
   "metadata": {
    "execution": {
     "iopub.execute_input": "2023-11-09T06:00:24.102573Z",
     "iopub.status.busy": "2023-11-09T06:00:24.101838Z",
     "iopub.status.idle": "2023-11-09T06:00:24.108452Z",
     "shell.execute_reply": "2023-11-09T06:00:24.106419Z"
    },
    "papermill": {
     "duration": 0.016638,
     "end_time": "2023-11-09T06:00:24.111732",
     "exception": false,
     "start_time": "2023-11-09T06:00:24.095094",
     "status": "completed"
    },
    "tags": []
   },
   "outputs": [],
   "source": [
    "#q1.hint()\n",
    "#q1.solution()"
   ]
  },
  {
   "cell_type": "markdown",
   "id": "c23f053b",
   "metadata": {
    "papermill": {
     "duration": 0.004961,
     "end_time": "2023-11-09T06:00:24.122205",
     "exception": false,
     "start_time": "2023-11-09T06:00:24.117244",
     "status": "completed"
    },
    "tags": []
   },
   "source": [
    "## 2.\n",
    "Set the index name in the dataset to `wines`."
   ]
  },
  {
   "cell_type": "code",
   "execution_count": 5,
   "id": "c28feb0b",
   "metadata": {
    "execution": {
     "iopub.execute_input": "2023-11-09T06:00:24.135393Z",
     "iopub.status.busy": "2023-11-09T06:00:24.135002Z",
     "iopub.status.idle": "2023-11-09T06:00:24.156321Z",
     "shell.execute_reply": "2023-11-09T06:00:24.155140Z"
    },
    "papermill": {
     "duration": 0.03123,
     "end_time": "2023-11-09T06:00:24.158690",
     "exception": false,
     "start_time": "2023-11-09T06:00:24.127460",
     "status": "completed"
    },
    "tags": []
   },
   "outputs": [
    {
     "data": {
      "application/javascript": [
       "parent.postMessage({\"jupyterEvent\": \"custom.exercise_interaction\", \"data\": {\"outcomeType\": 1, \"valueTowardsCompletion\": 0.25, \"interactionType\": 1, \"questionType\": 1, \"questionId\": \"2_RenameIndex\", \"learnToolsVersion\": \"0.3.4\", \"failureMessage\": \"\", \"exceptionClass\": \"\", \"trace\": \"\"}}, \"*\")"
      ],
      "text/plain": [
       "<IPython.core.display.Javascript object>"
      ]
     },
     "metadata": {},
     "output_type": "display_data"
    },
    {
     "data": {
      "text/markdown": [
       "<span style=\"color:#33cc33\">Correct</span>"
      ],
      "text/plain": [
       "Correct"
      ]
     },
     "metadata": {},
     "output_type": "display_data"
    }
   ],
   "source": [
    "reindexed = reviews.rename_axis('wines', axis='rows')\n",
    "\n",
    "# Check your answer\n",
    "q2.check()"
   ]
  },
  {
   "cell_type": "code",
   "execution_count": 6,
   "id": "491ee4f5",
   "metadata": {
    "execution": {
     "iopub.execute_input": "2023-11-09T06:00:24.175675Z",
     "iopub.status.busy": "2023-11-09T06:00:24.175270Z",
     "iopub.status.idle": "2023-11-09T06:00:24.185106Z",
     "shell.execute_reply": "2023-11-09T06:00:24.182784Z"
    },
    "papermill": {
     "duration": 0.021398,
     "end_time": "2023-11-09T06:00:24.187630",
     "exception": false,
     "start_time": "2023-11-09T06:00:24.166232",
     "status": "completed"
    },
    "tags": []
   },
   "outputs": [],
   "source": [
    "#q2.hint()\n",
    "#q2.solution()"
   ]
  },
  {
   "cell_type": "markdown",
   "id": "d612e52c",
   "metadata": {
    "papermill": {
     "duration": 0.005245,
     "end_time": "2023-11-09T06:00:24.199956",
     "exception": false,
     "start_time": "2023-11-09T06:00:24.194711",
     "status": "completed"
    },
    "tags": []
   },
   "source": [
    "## 3.\n",
    "The [Things on Reddit](https://www.kaggle.com/residentmario/things-on-reddit/data) dataset includes product links from a selection of top-ranked forums (\"subreddits\") on reddit.com. Run the cell below to load a dataframe of products mentioned on the */r/gaming* subreddit and another dataframe for products mentioned on the *r//movies* subreddit."
   ]
  },
  {
   "cell_type": "code",
   "execution_count": 7,
   "id": "f5e392e9",
   "metadata": {
    "execution": {
     "iopub.execute_input": "2023-11-09T06:00:24.212816Z",
     "iopub.status.busy": "2023-11-09T06:00:24.212386Z",
     "iopub.status.idle": "2023-11-09T06:00:24.228443Z",
     "shell.execute_reply": "2023-11-09T06:00:24.227137Z"
    },
    "papermill": {
     "duration": 0.025486,
     "end_time": "2023-11-09T06:00:24.231110",
     "exception": false,
     "start_time": "2023-11-09T06:00:24.205624",
     "status": "completed"
    },
    "tags": []
   },
   "outputs": [],
   "source": [
    "gaming_products = pd.read_csv(\"../input/things-on-reddit/top-things/top-things/reddits/g/gaming.csv\")\n",
    "gaming_products['subreddit'] = \"r/gaming\"\n",
    "movie_products = pd.read_csv(\"../input/things-on-reddit/top-things/top-things/reddits/m/movies.csv\")\n",
    "movie_products['subreddit'] = \"r/movies\""
   ]
  },
  {
   "cell_type": "markdown",
   "id": "e2a3032b",
   "metadata": {
    "papermill": {
     "duration": 0.005366,
     "end_time": "2023-11-09T06:00:24.242457",
     "exception": false,
     "start_time": "2023-11-09T06:00:24.237091",
     "status": "completed"
    },
    "tags": []
   },
   "source": [
    "Create a `DataFrame` of products mentioned on *either* subreddit."
   ]
  },
  {
   "cell_type": "code",
   "execution_count": 8,
   "id": "c249120f",
   "metadata": {
    "execution": {
     "iopub.execute_input": "2023-11-09T06:00:24.256508Z",
     "iopub.status.busy": "2023-11-09T06:00:24.255818Z",
     "iopub.status.idle": "2023-11-09T06:00:24.269254Z",
     "shell.execute_reply": "2023-11-09T06:00:24.267458Z"
    },
    "papermill": {
     "duration": 0.023912,
     "end_time": "2023-11-09T06:00:24.271858",
     "exception": false,
     "start_time": "2023-11-09T06:00:24.247946",
     "status": "completed"
    },
    "tags": []
   },
   "outputs": [
    {
     "data": {
      "application/javascript": [
       "parent.postMessage({\"jupyterEvent\": \"custom.exercise_interaction\", \"data\": {\"outcomeType\": 1, \"valueTowardsCompletion\": 0.25, \"interactionType\": 1, \"questionType\": 2, \"questionId\": \"3_ConcatReddit\", \"learnToolsVersion\": \"0.3.4\", \"failureMessage\": \"\", \"exceptionClass\": \"\", \"trace\": \"\"}}, \"*\")"
      ],
      "text/plain": [
       "<IPython.core.display.Javascript object>"
      ]
     },
     "metadata": {},
     "output_type": "display_data"
    },
    {
     "data": {
      "text/markdown": [
       "<span style=\"color:#33cc33\">Correct</span>"
      ],
      "text/plain": [
       "Correct"
      ]
     },
     "metadata": {},
     "output_type": "display_data"
    }
   ],
   "source": [
    "combined_products = pd.concat([gaming_products, movie_products])\n",
    "\n",
    "# Check your answer\n",
    "q3.check()"
   ]
  },
  {
   "cell_type": "code",
   "execution_count": 9,
   "id": "f8167241",
   "metadata": {
    "execution": {
     "iopub.execute_input": "2023-11-09T06:00:24.285881Z",
     "iopub.status.busy": "2023-11-09T06:00:24.284930Z",
     "iopub.status.idle": "2023-11-09T06:00:24.289702Z",
     "shell.execute_reply": "2023-11-09T06:00:24.288845Z"
    },
    "papermill": {
     "duration": 0.014701,
     "end_time": "2023-11-09T06:00:24.292321",
     "exception": false,
     "start_time": "2023-11-09T06:00:24.277620",
     "status": "completed"
    },
    "tags": []
   },
   "outputs": [],
   "source": [
    "#q3.hint()\n",
    "#q3.solution()"
   ]
  },
  {
   "cell_type": "markdown",
   "id": "aaf954f9",
   "metadata": {
    "papermill": {
     "duration": 0.006674,
     "end_time": "2023-11-09T06:00:24.308112",
     "exception": false,
     "start_time": "2023-11-09T06:00:24.301438",
     "status": "completed"
    },
    "tags": []
   },
   "source": [
    "## 4.\n",
    "The [Powerlifting Database](https://www.kaggle.com/open-powerlifting/powerlifting-database) dataset on Kaggle includes one CSV table for powerlifting meets and a separate one for powerlifting competitors. Run the cell below to load these datasets into dataframes:"
   ]
  },
  {
   "cell_type": "code",
   "execution_count": 10,
   "id": "43fa9e36",
   "metadata": {
    "execution": {
     "iopub.execute_input": "2023-11-09T06:00:24.322890Z",
     "iopub.status.busy": "2023-11-09T06:00:24.322262Z",
     "iopub.status.idle": "2023-11-09T06:00:24.956992Z",
     "shell.execute_reply": "2023-11-09T06:00:24.956162Z"
    },
    "papermill": {
     "duration": 0.645599,
     "end_time": "2023-11-09T06:00:24.959525",
     "exception": false,
     "start_time": "2023-11-09T06:00:24.313926",
     "status": "completed"
    },
    "tags": []
   },
   "outputs": [],
   "source": [
    "powerlifting_meets = pd.read_csv(\"../input/powerlifting-database/meets.csv\")\n",
    "powerlifting_competitors = pd.read_csv(\"../input/powerlifting-database/openpowerlifting.csv\")"
   ]
  },
  {
   "cell_type": "markdown",
   "id": "7907c65d",
   "metadata": {
    "papermill": {
     "duration": 0.005524,
     "end_time": "2023-11-09T06:00:24.971114",
     "exception": false,
     "start_time": "2023-11-09T06:00:24.965590",
     "status": "completed"
    },
    "tags": []
   },
   "source": [
    "Both tables include references to a `MeetID`, a unique key for each meet (competition) included in the database. Using this, generate a dataset combining the two tables into one."
   ]
  },
  {
   "cell_type": "code",
   "execution_count": 11,
   "id": "89624f95",
   "metadata": {
    "execution": {
     "iopub.execute_input": "2023-11-09T06:00:24.984599Z",
     "iopub.status.busy": "2023-11-09T06:00:24.983986Z",
     "iopub.status.idle": "2023-11-09T06:00:25.764870Z",
     "shell.execute_reply": "2023-11-09T06:00:25.763124Z"
    },
    "papermill": {
     "duration": 0.791019,
     "end_time": "2023-11-09T06:00:25.767733",
     "exception": false,
     "start_time": "2023-11-09T06:00:24.976714",
     "status": "completed"
    },
    "tags": []
   },
   "outputs": [
    {
     "data": {
      "application/javascript": [
       "parent.postMessage({\"jupyterEvent\": \"custom.exercise_interaction\", \"data\": {\"outcomeType\": 1, \"valueTowardsCompletion\": 0.25, \"interactionType\": 1, \"questionType\": 2, \"questionId\": \"4_JoinLifting\", \"learnToolsVersion\": \"0.3.4\", \"failureMessage\": \"\", \"exceptionClass\": \"\", \"trace\": \"\"}}, \"*\")"
      ],
      "text/plain": [
       "<IPython.core.display.Javascript object>"
      ]
     },
     "metadata": {},
     "output_type": "display_data"
    },
    {
     "data": {
      "text/markdown": [
       "<span style=\"color:#33cc33\">Correct</span>"
      ],
      "text/plain": [
       "Correct"
      ]
     },
     "metadata": {},
     "output_type": "display_data"
    }
   ],
   "source": [
    "powerlifting_combined = powerlifting_meets.set_index(\"MeetID\").join(powerlifting_competitors.set_index(\"MeetID\"))\n",
    "\n",
    "# Check your answer\n",
    "q4.check()"
   ]
  },
  {
   "cell_type": "code",
   "execution_count": 12,
   "id": "f37fc79a",
   "metadata": {
    "execution": {
     "iopub.execute_input": "2023-11-09T06:00:25.785062Z",
     "iopub.status.busy": "2023-11-09T06:00:25.784571Z",
     "iopub.status.idle": "2023-11-09T06:00:25.789539Z",
     "shell.execute_reply": "2023-11-09T06:00:25.788501Z"
    },
    "papermill": {
     "duration": 0.016845,
     "end_time": "2023-11-09T06:00:25.792092",
     "exception": false,
     "start_time": "2023-11-09T06:00:25.775247",
     "status": "completed"
    },
    "tags": []
   },
   "outputs": [],
   "source": [
    "#q4.hint()\n",
    "#q4.solution()"
   ]
  },
  {
   "cell_type": "markdown",
   "id": "fb1b2493",
   "metadata": {
    "papermill": {
     "duration": 0.00693,
     "end_time": "2023-11-09T06:00:25.805484",
     "exception": false,
     "start_time": "2023-11-09T06:00:25.798554",
     "status": "completed"
    },
    "tags": []
   },
   "source": [
    "# Congratulations!\n",
    "\n",
    "You've finished the Pandas micro-course.  Many data scientists feel efficiency with Pandas is the most useful and practical skill they have, because it allows you to progress quickly in any project you have.\n",
    "\n",
    "If you'd like to apply your new skills to examining geospatial data, you're encouraged to check out our **[Geospatial Analysis](https://www.kaggle.com/learn/geospatial-analysis)** micro-course.\n",
    "\n",
    "You can also take advantage of your Pandas skills by entering a **[Kaggle Competition](https://www.kaggle.com/competitions)** or by answering a question you find interesting using **[Kaggle Datasets](https://www.kaggle.com/datasets)**."
   ]
  },
  {
   "cell_type": "markdown",
   "id": "1e2b13d2",
   "metadata": {
    "papermill": {
     "duration": 0.005764,
     "end_time": "2023-11-09T06:00:25.818076",
     "exception": false,
     "start_time": "2023-11-09T06:00:25.812312",
     "status": "completed"
    },
    "tags": []
   },
   "source": [
    "---\n",
    "\n",
    "\n",
    "\n",
    "\n",
    "*Have questions or comments? Visit the [course discussion forum](https://www.kaggle.com/learn/pandas/discussion) to chat with other learners.*"
   ]
  }
 ],
 "metadata": {
  "kernelspec": {
   "display_name": "Python 3",
   "language": "python",
   "name": "python3"
  },
  "language_info": {
   "codemirror_mode": {
    "name": "ipython",
    "version": 3
   },
   "file_extension": ".py",
   "mimetype": "text/x-python",
   "name": "python",
   "nbconvert_exporter": "python",
   "pygments_lexer": "ipython3",
   "version": "3.10.12"
  },
  "papermill": {
   "default_parameters": {},
   "duration": 10.99419,
   "end_time": "2023-11-09T06:00:26.647861",
   "environment_variables": {},
   "exception": null,
   "input_path": "__notebook__.ipynb",
   "output_path": "__notebook__.ipynb",
   "parameters": {},
   "start_time": "2023-11-09T06:00:15.653671",
   "version": "2.4.0"
  }
 },
 "nbformat": 4,
 "nbformat_minor": 5
}
