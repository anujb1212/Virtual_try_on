{
 "cells": [
  {
   "cell_type": "markdown",
   "id": "1cf298e0",
   "metadata": {
    "papermill": {
     "duration": 0.008689,
     "end_time": "2023-11-09T06:01:13.199199",
     "exception": false,
     "start_time": "2023-11-09T06:01:13.190510",
     "status": "completed"
    },
    "tags": []
   },
   "source": [
    "**This notebook is an exercise in the [Pandas](https://www.kaggle.com/learn/pandas) course.  You can reference the tutorial at [this link](https://www.kaggle.com/residentmario/grouping-and-sorting).**\n",
    "\n",
    "---\n"
   ]
  },
  {
   "cell_type": "markdown",
   "id": "f77a1a5d",
   "metadata": {
    "papermill": {
     "duration": 0.007615,
     "end_time": "2023-11-09T06:01:13.215079",
     "exception": false,
     "start_time": "2023-11-09T06:01:13.207464",
     "status": "completed"
    },
    "tags": []
   },
   "source": [
    "# Introduction\n",
    "\n",
    "In these exercises we'll apply groupwise analysis to our dataset.\n",
    "\n",
    "Run the code cell below to load the data before running the exercises."
   ]
  },
  {
   "cell_type": "code",
   "execution_count": 1,
   "id": "96ab0cc4",
   "metadata": {
    "execution": {
     "iopub.execute_input": "2023-11-09T06:01:13.233403Z",
     "iopub.status.busy": "2023-11-09T06:01:13.232692Z",
     "iopub.status.idle": "2023-11-09T06:01:17.367327Z",
     "shell.execute_reply": "2023-11-09T06:01:17.366078Z"
    },
    "papermill": {
     "duration": 4.147288,
     "end_time": "2023-11-09T06:01:17.370403",
     "exception": false,
     "start_time": "2023-11-09T06:01:13.223115",
     "status": "completed"
    },
    "tags": []
   },
   "outputs": [
    {
     "name": "stdout",
     "output_type": "stream",
     "text": [
      "Setup complete.\n"
     ]
    }
   ],
   "source": [
    "import pandas as pd\n",
    "\n",
    "reviews = pd.read_csv(\"../input/wine-reviews/winemag-data-130k-v2.csv\", index_col=0)\n",
    "#pd.set_option(\"display.max_rows\", 5)\n",
    "\n",
    "from learntools.core import binder; binder.bind(globals())\n",
    "from learntools.pandas.grouping_and_sorting import *\n",
    "print(\"Setup complete.\")"
   ]
  },
  {
   "cell_type": "markdown",
   "id": "bf90cc10",
   "metadata": {
    "papermill": {
     "duration": 0.007581,
     "end_time": "2023-11-09T06:01:17.385998",
     "exception": false,
     "start_time": "2023-11-09T06:01:17.378417",
     "status": "completed"
    },
    "tags": []
   },
   "source": [
    "# Exercises"
   ]
  },
  {
   "cell_type": "markdown",
   "id": "cc3ffb0c",
   "metadata": {
    "papermill": {
     "duration": 0.00755,
     "end_time": "2023-11-09T06:01:17.401351",
     "exception": false,
     "start_time": "2023-11-09T06:01:17.393801",
     "status": "completed"
    },
    "tags": []
   },
   "source": [
    "## 1.\n",
    "Who are the most common wine reviewers in the dataset? Create a `Series` whose index is the `taster_twitter_handle` category from the dataset, and whose values count how many reviews each person wrote."
   ]
  },
  {
   "cell_type": "code",
   "execution_count": 2,
   "id": "6e7d4954",
   "metadata": {
    "execution": {
     "iopub.execute_input": "2023-11-09T06:01:17.419342Z",
     "iopub.status.busy": "2023-11-09T06:01:17.418393Z",
     "iopub.status.idle": "2023-11-09T06:01:17.470036Z",
     "shell.execute_reply": "2023-11-09T06:01:17.468666Z"
    },
    "papermill": {
     "duration": 0.063815,
     "end_time": "2023-11-09T06:01:17.472858",
     "exception": false,
     "start_time": "2023-11-09T06:01:17.409043",
     "status": "completed"
    },
    "tags": []
   },
   "outputs": [
    {
     "data": {
      "application/javascript": [
       "parent.postMessage({\"jupyterEvent\": \"custom.exercise_interaction\", \"data\": {\"outcomeType\": 1, \"valueTowardsCompletion\": 0.16666666666666666, \"interactionType\": 1, \"questionType\": 1, \"questionId\": \"1_ReviewsWritten\", \"learnToolsVersion\": \"0.3.4\", \"failureMessage\": \"\", \"exceptionClass\": \"\", \"trace\": \"\"}}, \"*\")"
      ],
      "text/plain": [
       "<IPython.core.display.Javascript object>"
      ]
     },
     "metadata": {},
     "output_type": "display_data"
    },
    {
     "data": {
      "text/markdown": [
       "<span style=\"color:#33cc33\">Correct:</span> \n",
       "\n",
       "\n",
       "```python\n",
       "reviews_written = reviews.groupby('taster_twitter_handle').size()\n",
       "```\n",
       "or\n",
       "```python\n",
       "reviews_written = reviews.groupby('taster_twitter_handle').taster_twitter_handle.count()\n",
       "```\n"
      ],
      "text/plain": [
       "Correct: \n",
       "\n",
       "\n",
       "```python\n",
       "reviews_written = reviews.groupby('taster_twitter_handle').size()\n",
       "```\n",
       "or\n",
       "```python\n",
       "reviews_written = reviews.groupby('taster_twitter_handle').taster_twitter_handle.count()\n",
       "```"
      ]
     },
     "metadata": {},
     "output_type": "display_data"
    }
   ],
   "source": [
    "# Your code here\n",
    "reviews_written = reviews.groupby('taster_twitter_handle').taster_twitter_handle.count()\n",
    "\n",
    "# Check your answer\n",
    "q1.check()"
   ]
  },
  {
   "cell_type": "code",
   "execution_count": 3,
   "id": "0d447e06",
   "metadata": {
    "execution": {
     "iopub.execute_input": "2023-11-09T06:01:17.491431Z",
     "iopub.status.busy": "2023-11-09T06:01:17.491053Z",
     "iopub.status.idle": "2023-11-09T06:01:17.496760Z",
     "shell.execute_reply": "2023-11-09T06:01:17.495306Z"
    },
    "papermill": {
     "duration": 0.018334,
     "end_time": "2023-11-09T06:01:17.499518",
     "exception": false,
     "start_time": "2023-11-09T06:01:17.481184",
     "status": "completed"
    },
    "tags": []
   },
   "outputs": [],
   "source": [
    "#q1.hint()\n",
    "#q1.solution()"
   ]
  },
  {
   "cell_type": "markdown",
   "id": "b19a13de",
   "metadata": {
    "papermill": {
     "duration": 0.008118,
     "end_time": "2023-11-09T06:01:17.515890",
     "exception": false,
     "start_time": "2023-11-09T06:01:17.507772",
     "status": "completed"
    },
    "tags": []
   },
   "source": [
    "## 2.\n",
    "What is the best wine I can buy for a given amount of money? Create a `Series` whose index is wine prices and whose values is the maximum number of points a wine costing that much was given in a review. Sort the values by price, ascending (so that `4.0` dollars is at the top and `3300.0` dollars is at the bottom)."
   ]
  },
  {
   "cell_type": "code",
   "execution_count": 4,
   "id": "4122ab84",
   "metadata": {
    "execution": {
     "iopub.execute_input": "2023-11-09T06:01:17.534756Z",
     "iopub.status.busy": "2023-11-09T06:01:17.534321Z",
     "iopub.status.idle": "2023-11-09T06:01:17.551280Z",
     "shell.execute_reply": "2023-11-09T06:01:17.550016Z"
    },
    "papermill": {
     "duration": 0.029129,
     "end_time": "2023-11-09T06:01:17.553695",
     "exception": false,
     "start_time": "2023-11-09T06:01:17.524566",
     "status": "completed"
    },
    "tags": []
   },
   "outputs": [
    {
     "data": {
      "application/javascript": [
       "parent.postMessage({\"jupyterEvent\": \"custom.exercise_interaction\", \"data\": {\"outcomeType\": 1, \"valueTowardsCompletion\": 0.16666666666666666, \"interactionType\": 1, \"questionType\": 1, \"questionId\": \"2_BestRatingPerPrice\", \"learnToolsVersion\": \"0.3.4\", \"failureMessage\": \"\", \"exceptionClass\": \"\", \"trace\": \"\"}}, \"*\")"
      ],
      "text/plain": [
       "<IPython.core.display.Javascript object>"
      ]
     },
     "metadata": {},
     "output_type": "display_data"
    },
    {
     "data": {
      "text/markdown": [
       "<span style=\"color:#33cc33\">Correct</span>"
      ],
      "text/plain": [
       "Correct"
      ]
     },
     "metadata": {},
     "output_type": "display_data"
    }
   ],
   "source": [
    "best_rating_per_price = reviews.groupby('price')['points'].max().sort_index()\n",
    "\n",
    "# Check your answer\n",
    "q2.check()"
   ]
  },
  {
   "cell_type": "code",
   "execution_count": 5,
   "id": "7ee28118",
   "metadata": {
    "execution": {
     "iopub.execute_input": "2023-11-09T06:01:17.572580Z",
     "iopub.status.busy": "2023-11-09T06:01:17.572211Z",
     "iopub.status.idle": "2023-11-09T06:01:17.577205Z",
     "shell.execute_reply": "2023-11-09T06:01:17.576040Z"
    },
    "papermill": {
     "duration": 0.017489,
     "end_time": "2023-11-09T06:01:17.579723",
     "exception": false,
     "start_time": "2023-11-09T06:01:17.562234",
     "status": "completed"
    },
    "tags": []
   },
   "outputs": [],
   "source": [
    "#q2.hint()\n",
    "#q2.solution()"
   ]
  },
  {
   "cell_type": "markdown",
   "id": "b45ea32f",
   "metadata": {
    "papermill": {
     "duration": 0.008056,
     "end_time": "2023-11-09T06:01:17.596203",
     "exception": false,
     "start_time": "2023-11-09T06:01:17.588147",
     "status": "completed"
    },
    "tags": []
   },
   "source": [
    "## 3.\n",
    "What are the minimum and maximum prices for each `variety` of wine? Create a `DataFrame` whose index is the `variety` category from the dataset and whose values are the `min` and `max` values thereof."
   ]
  },
  {
   "cell_type": "code",
   "execution_count": 6,
   "id": "2a5127da",
   "metadata": {
    "execution": {
     "iopub.execute_input": "2023-11-09T06:01:17.615633Z",
     "iopub.status.busy": "2023-11-09T06:01:17.614693Z",
     "iopub.status.idle": "2023-11-09T06:01:17.657684Z",
     "shell.execute_reply": "2023-11-09T06:01:17.656373Z"
    },
    "papermill": {
     "duration": 0.055485,
     "end_time": "2023-11-09T06:01:17.660211",
     "exception": false,
     "start_time": "2023-11-09T06:01:17.604726",
     "status": "completed"
    },
    "tags": []
   },
   "outputs": [
    {
     "data": {
      "application/javascript": [
       "parent.postMessage({\"jupyterEvent\": \"custom.exercise_interaction\", \"data\": {\"outcomeType\": 1, \"valueTowardsCompletion\": 0.16666666666666666, \"interactionType\": 1, \"questionType\": 1, \"questionId\": \"3_PriceExtremes\", \"learnToolsVersion\": \"0.3.4\", \"failureMessage\": \"\", \"exceptionClass\": \"\", \"trace\": \"\"}}, \"*\")"
      ],
      "text/plain": [
       "<IPython.core.display.Javascript object>"
      ]
     },
     "metadata": {},
     "output_type": "display_data"
    },
    {
     "data": {
      "text/markdown": [
       "<span style=\"color:#33cc33\">Correct</span>"
      ],
      "text/plain": [
       "Correct"
      ]
     },
     "metadata": {},
     "output_type": "display_data"
    }
   ],
   "source": [
    "price_extremes = reviews.groupby('variety').price.agg([min, max])\n",
    "\n",
    "# Check your answer\n",
    "q3.check()"
   ]
  },
  {
   "cell_type": "code",
   "execution_count": 7,
   "id": "1e8c1c55",
   "metadata": {
    "execution": {
     "iopub.execute_input": "2023-11-09T06:01:17.679372Z",
     "iopub.status.busy": "2023-11-09T06:01:17.678997Z",
     "iopub.status.idle": "2023-11-09T06:01:17.684209Z",
     "shell.execute_reply": "2023-11-09T06:01:17.682834Z"
    },
    "papermill": {
     "duration": 0.017789,
     "end_time": "2023-11-09T06:01:17.686689",
     "exception": false,
     "start_time": "2023-11-09T06:01:17.668900",
     "status": "completed"
    },
    "tags": []
   },
   "outputs": [],
   "source": [
    "#q3.hint()\n",
    "#q3.solution()"
   ]
  },
  {
   "cell_type": "markdown",
   "id": "baf01566",
   "metadata": {
    "papermill": {
     "duration": 0.008673,
     "end_time": "2023-11-09T06:01:17.704149",
     "exception": false,
     "start_time": "2023-11-09T06:01:17.695476",
     "status": "completed"
    },
    "tags": []
   },
   "source": [
    "## 4.\n",
    "What are the most expensive wine varieties? Create a variable `sorted_varieties` containing a copy of the dataframe from the previous question where varieties are sorted in descending order based on minimum price, then on maximum price (to break ties)."
   ]
  },
  {
   "cell_type": "code",
   "execution_count": 8,
   "id": "b1669fce",
   "metadata": {
    "execution": {
     "iopub.execute_input": "2023-11-09T06:01:17.723404Z",
     "iopub.status.busy": "2023-11-09T06:01:17.723021Z",
     "iopub.status.idle": "2023-11-09T06:01:17.735405Z",
     "shell.execute_reply": "2023-11-09T06:01:17.734146Z"
    },
    "papermill": {
     "duration": 0.025077,
     "end_time": "2023-11-09T06:01:17.737961",
     "exception": false,
     "start_time": "2023-11-09T06:01:17.712884",
     "status": "completed"
    },
    "tags": []
   },
   "outputs": [
    {
     "data": {
      "application/javascript": [
       "parent.postMessage({\"jupyterEvent\": \"custom.exercise_interaction\", \"data\": {\"outcomeType\": 1, \"valueTowardsCompletion\": 0.16666666666666666, \"interactionType\": 1, \"questionType\": 1, \"questionId\": \"4_SortedVarieties\", \"learnToolsVersion\": \"0.3.4\", \"failureMessage\": \"\", \"exceptionClass\": \"\", \"trace\": \"\"}}, \"*\")"
      ],
      "text/plain": [
       "<IPython.core.display.Javascript object>"
      ]
     },
     "metadata": {},
     "output_type": "display_data"
    },
    {
     "data": {
      "text/markdown": [
       "<span style=\"color:#33cc33\">Correct</span>"
      ],
      "text/plain": [
       "Correct"
      ]
     },
     "metadata": {},
     "output_type": "display_data"
    }
   ],
   "source": [
    "sorted_varieties = price_extremes.sort_values(by=['min', 'max'], ascending=False)\n",
    "\n",
    "# Check your answer\n",
    "q4.check()"
   ]
  },
  {
   "cell_type": "code",
   "execution_count": 9,
   "id": "a05d40d9",
   "metadata": {
    "execution": {
     "iopub.execute_input": "2023-11-09T06:01:17.758744Z",
     "iopub.status.busy": "2023-11-09T06:01:17.758315Z",
     "iopub.status.idle": "2023-11-09T06:01:17.762669Z",
     "shell.execute_reply": "2023-11-09T06:01:17.761699Z"
    },
    "papermill": {
     "duration": 0.017588,
     "end_time": "2023-11-09T06:01:17.764905",
     "exception": false,
     "start_time": "2023-11-09T06:01:17.747317",
     "status": "completed"
    },
    "tags": []
   },
   "outputs": [],
   "source": [
    "#q4.hint()\n",
    "#q4.solution()"
   ]
  },
  {
   "cell_type": "markdown",
   "id": "8ceeead9",
   "metadata": {
    "papermill": {
     "duration": 0.008789,
     "end_time": "2023-11-09T06:01:17.782845",
     "exception": false,
     "start_time": "2023-11-09T06:01:17.774056",
     "status": "completed"
    },
    "tags": []
   },
   "source": [
    "## 5.\n",
    "Create a `Series` whose index is reviewers and whose values is the average review score given out by that reviewer. Hint: you will need the `taster_name` and `points` columns."
   ]
  },
  {
   "cell_type": "code",
   "execution_count": 10,
   "id": "614b3339",
   "metadata": {
    "execution": {
     "iopub.execute_input": "2023-11-09T06:01:17.805382Z",
     "iopub.status.busy": "2023-11-09T06:01:17.804082Z",
     "iopub.status.idle": "2023-11-09T06:01:17.843537Z",
     "shell.execute_reply": "2023-11-09T06:01:17.842150Z"
    },
    "papermill": {
     "duration": 0.05338,
     "end_time": "2023-11-09T06:01:17.846419",
     "exception": false,
     "start_time": "2023-11-09T06:01:17.793039",
     "status": "completed"
    },
    "tags": []
   },
   "outputs": [
    {
     "data": {
      "application/javascript": [
       "parent.postMessage({\"jupyterEvent\": \"custom.exercise_interaction\", \"data\": {\"outcomeType\": 1, \"valueTowardsCompletion\": 0.16666666666666666, \"interactionType\": 1, \"questionType\": 1, \"questionId\": \"5_ReviewerMeanRatings\", \"learnToolsVersion\": \"0.3.4\", \"failureMessage\": \"\", \"exceptionClass\": \"\", \"trace\": \"\"}}, \"*\")"
      ],
      "text/plain": [
       "<IPython.core.display.Javascript object>"
      ]
     },
     "metadata": {},
     "output_type": "display_data"
    },
    {
     "data": {
      "text/markdown": [
       "<span style=\"color:#33cc33\">Correct</span>"
      ],
      "text/plain": [
       "Correct"
      ]
     },
     "metadata": {},
     "output_type": "display_data"
    }
   ],
   "source": [
    "reviewer_mean_ratings = reviews.groupby('taster_name').points.mean()\n",
    "\n",
    "# Check your answer\n",
    "q5.check()"
   ]
  },
  {
   "cell_type": "code",
   "execution_count": 11,
   "id": "6e7187c9",
   "metadata": {
    "execution": {
     "iopub.execute_input": "2023-11-09T06:01:17.868271Z",
     "iopub.status.busy": "2023-11-09T06:01:17.867845Z",
     "iopub.status.idle": "2023-11-09T06:01:17.873135Z",
     "shell.execute_reply": "2023-11-09T06:01:17.871950Z"
    },
    "papermill": {
     "duration": 0.019527,
     "end_time": "2023-11-09T06:01:17.875772",
     "exception": false,
     "start_time": "2023-11-09T06:01:17.856245",
     "status": "completed"
    },
    "tags": []
   },
   "outputs": [],
   "source": [
    "#q5.hint()\n",
    "#q5.solution()"
   ]
  },
  {
   "cell_type": "markdown",
   "id": "419d4478",
   "metadata": {
    "papermill": {
     "duration": 0.009624,
     "end_time": "2023-11-09T06:01:17.895182",
     "exception": false,
     "start_time": "2023-11-09T06:01:17.885558",
     "status": "completed"
    },
    "tags": []
   },
   "source": [
    "Are there significant differences in the average scores assigned by the various reviewers? Run the cell below to use the `describe()` method to see a summary of the range of values."
   ]
  },
  {
   "cell_type": "code",
   "execution_count": 12,
   "id": "50cd9419",
   "metadata": {
    "execution": {
     "iopub.execute_input": "2023-11-09T06:01:17.916084Z",
     "iopub.status.busy": "2023-11-09T06:01:17.915641Z",
     "iopub.status.idle": "2023-11-09T06:01:17.932127Z",
     "shell.execute_reply": "2023-11-09T06:01:17.930961Z"
    },
    "papermill": {
     "duration": 0.030281,
     "end_time": "2023-11-09T06:01:17.934861",
     "exception": false,
     "start_time": "2023-11-09T06:01:17.904580",
     "status": "completed"
    },
    "tags": []
   },
   "outputs": [
    {
     "data": {
      "text/plain": [
       "count    19.000000\n",
       "mean     88.233026\n",
       "std       1.243610\n",
       "min      85.855422\n",
       "25%      87.323501\n",
       "50%      88.536235\n",
       "75%      88.975256\n",
       "max      90.562551\n",
       "Name: points, dtype: float64"
      ]
     },
     "execution_count": 12,
     "metadata": {},
     "output_type": "execute_result"
    }
   ],
   "source": [
    "reviewer_mean_ratings.describe()"
   ]
  },
  {
   "cell_type": "markdown",
   "id": "d75102dc",
   "metadata": {
    "papermill": {
     "duration": 0.009455,
     "end_time": "2023-11-09T06:01:17.954510",
     "exception": false,
     "start_time": "2023-11-09T06:01:17.945055",
     "status": "completed"
    },
    "tags": []
   },
   "source": [
    "## 6.\n",
    "What combination of countries and varieties are most common? Create a `Series` whose index is a `MultiIndex`of `{country, variety}` pairs. For example, a pinot noir produced in the US should map to `{\"US\", \"Pinot Noir\"}`. Sort the values in the `Series` in descending order based on wine count."
   ]
  },
  {
   "cell_type": "code",
   "execution_count": 13,
   "id": "676034a7",
   "metadata": {
    "execution": {
     "iopub.execute_input": "2023-11-09T06:01:17.975837Z",
     "iopub.status.busy": "2023-11-09T06:01:17.975392Z",
     "iopub.status.idle": "2023-11-09T06:01:18.045814Z",
     "shell.execute_reply": "2023-11-09T06:01:18.044797Z"
    },
    "papermill": {
     "duration": 0.084119,
     "end_time": "2023-11-09T06:01:18.048239",
     "exception": false,
     "start_time": "2023-11-09T06:01:17.964120",
     "status": "completed"
    },
    "tags": []
   },
   "outputs": [
    {
     "data": {
      "application/javascript": [
       "parent.postMessage({\"jupyterEvent\": \"custom.exercise_interaction\", \"data\": {\"outcomeType\": 1, \"valueTowardsCompletion\": 0.16666666666666666, \"interactionType\": 1, \"questionType\": 1, \"questionId\": \"6_GroupbyCountryVariety\", \"learnToolsVersion\": \"0.3.4\", \"failureMessage\": \"\", \"exceptionClass\": \"\", \"trace\": \"\"}}, \"*\")"
      ],
      "text/plain": [
       "<IPython.core.display.Javascript object>"
      ]
     },
     "metadata": {},
     "output_type": "display_data"
    },
    {
     "data": {
      "text/markdown": [
       "<span style=\"color:#33cc33\">Correct</span>"
      ],
      "text/plain": [
       "Correct"
      ]
     },
     "metadata": {},
     "output_type": "display_data"
    }
   ],
   "source": [
    "country_variety_counts = reviews.groupby(['country', 'variety']).size().sort_values(ascending=False)\n",
    "\n",
    "# Check your answer\n",
    "q6.check()"
   ]
  },
  {
   "cell_type": "code",
   "execution_count": 14,
   "id": "0b159548",
   "metadata": {
    "execution": {
     "iopub.execute_input": "2023-11-09T06:01:18.071672Z",
     "iopub.status.busy": "2023-11-09T06:01:18.070169Z",
     "iopub.status.idle": "2023-11-09T06:01:18.076461Z",
     "shell.execute_reply": "2023-11-09T06:01:18.075430Z"
    },
    "papermill": {
     "duration": 0.020607,
     "end_time": "2023-11-09T06:01:18.079122",
     "exception": false,
     "start_time": "2023-11-09T06:01:18.058515",
     "status": "completed"
    },
    "tags": []
   },
   "outputs": [],
   "source": [
    "#q6.hint()\n",
    "#q6.solution()"
   ]
  },
  {
   "cell_type": "markdown",
   "id": "7ad9f831",
   "metadata": {
    "papermill": {
     "duration": 0.009746,
     "end_time": "2023-11-09T06:01:18.099139",
     "exception": false,
     "start_time": "2023-11-09T06:01:18.089393",
     "status": "completed"
    },
    "tags": []
   },
   "source": [
    "# Keep going\n",
    "\n",
    "Move on to the [**data types and missing data**](https://www.kaggle.com/residentmario/data-types-and-missing-values)."
   ]
  },
  {
   "cell_type": "markdown",
   "id": "54c128cd",
   "metadata": {
    "papermill": {
     "duration": 0.009718,
     "end_time": "2023-11-09T06:01:18.118950",
     "exception": false,
     "start_time": "2023-11-09T06:01:18.109232",
     "status": "completed"
    },
    "tags": []
   },
   "source": [
    "---\n",
    "\n",
    "\n",
    "\n",
    "\n",
    "*Have questions or comments? Visit the [course discussion forum](https://www.kaggle.com/learn/pandas/discussion) to chat with other learners.*"
   ]
  }
 ],
 "metadata": {
  "kernelspec": {
   "display_name": "Python 3",
   "language": "python",
   "name": "python3"
  },
  "language_info": {
   "codemirror_mode": {
    "name": "ipython",
    "version": 3
   },
   "file_extension": ".py",
   "mimetype": "text/x-python",
   "name": "python",
   "nbconvert_exporter": "python",
   "pygments_lexer": "ipython3",
   "version": "3.10.12"
  },
  "papermill": {
   "default_parameters": {},
   "duration": 9.371591,
   "end_time": "2023-11-09T06:01:18.750537",
   "environment_variables": {},
   "exception": null,
   "input_path": "__notebook__.ipynb",
   "output_path": "__notebook__.ipynb",
   "parameters": {},
   "start_time": "2023-11-09T06:01:09.378946",
   "version": "2.4.0"
  }
 },
 "nbformat": 4,
 "nbformat_minor": 5
}
